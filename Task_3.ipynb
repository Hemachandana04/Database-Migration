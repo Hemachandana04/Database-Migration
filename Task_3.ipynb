{
  "nbformat": 4,
  "nbformat_minor": 0,
  "metadata": {
    "colab": {
      "provenance": []
    },
    "kernelspec": {
      "name": "python3",
      "display_name": "Python 3"
    },
    "language_info": {
      "name": "python"
    }
  },
  "cells": [
    {
      "cell_type": "code",
      "source": [
        "!pip install sqlalchemy pandas tabulate"
      ],
      "metadata": {
        "colab": {
          "base_uri": "https://localhost:8080/"
        },
        "id": "8aYQ8IKzFzWo",
        "outputId": "ee7a5267-b7fa-4ef4-e18a-1c83f7d6aaf5"
      },
      "execution_count": 10,
      "outputs": [
        {
          "output_type": "stream",
          "name": "stdout",
          "text": [
            "Requirement already satisfied: sqlalchemy in /usr/local/lib/python3.12/dist-packages (2.0.43)\n",
            "Requirement already satisfied: pandas in /usr/local/lib/python3.12/dist-packages (2.2.2)\n",
            "Requirement already satisfied: tabulate in /usr/local/lib/python3.12/dist-packages (0.9.0)\n",
            "Requirement already satisfied: greenlet>=1 in /usr/local/lib/python3.12/dist-packages (from sqlalchemy) (3.2.4)\n",
            "Requirement already satisfied: typing-extensions>=4.6.0 in /usr/local/lib/python3.12/dist-packages (from sqlalchemy) (4.15.0)\n",
            "Requirement already satisfied: numpy>=1.26.0 in /usr/local/lib/python3.12/dist-packages (from pandas) (2.0.2)\n",
            "Requirement already satisfied: python-dateutil>=2.8.2 in /usr/local/lib/python3.12/dist-packages (from pandas) (2.9.0.post0)\n",
            "Requirement already satisfied: pytz>=2020.1 in /usr/local/lib/python3.12/dist-packages (from pandas) (2025.2)\n",
            "Requirement already satisfied: tzdata>=2022.7 in /usr/local/lib/python3.12/dist-packages (from pandas) (2025.2)\n",
            "Requirement already satisfied: six>=1.5 in /usr/local/lib/python3.12/dist-packages (from python-dateutil>=2.8.2->pandas) (1.17.0)\n"
          ]
        }
      ]
    },
    {
      "cell_type": "code",
      "source": [
        "import sqlite3\n",
        "import pandas as pd\n",
        "from sqlalchemy import create_engine\n",
        "from tabulate import tabulate"
      ],
      "metadata": {
        "id": "N7kbMdRpF1EN"
      },
      "execution_count": 11,
      "outputs": []
    },
    {
      "cell_type": "code",
      "source": [
        "mysql_conn = sqlite3.connect(\"mysql_sim.db\")\n",
        "cursor = mysql_conn.cursor()"
      ],
      "metadata": {
        "id": "Kf9ntfcTF5pu"
      },
      "execution_count": 12,
      "outputs": []
    },
    {
      "cell_type": "code",
      "source": [
        "cursor.execute(\"DROP TABLE IF EXISTS Library\")"
      ],
      "metadata": {
        "colab": {
          "base_uri": "https://localhost:8080/"
        },
        "id": "avU59FAGGARu",
        "outputId": "e1d95219-d3a3-4109-e299-5072afed133f"
      },
      "execution_count": 13,
      "outputs": [
        {
          "output_type": "execute_result",
          "data": {
            "text/plain": [
              "<sqlite3.Cursor at 0x7ed7d49c9640>"
            ]
          },
          "metadata": {},
          "execution_count": 13
        }
      ]
    },
    {
      "cell_type": "code",
      "source": [
        "cursor.execute(\"\"\"\n",
        "CREATE TABLE Library (\n",
        "    BookID INTEGER PRIMARY KEY,\n",
        "    Title TEXT,\n",
        "    Author TEXT,\n",
        "    Year INTEGER,\n",
        "    Genre TEXT\n",
        ")\n",
        "\"\"\")"
      ],
      "metadata": {
        "colab": {
          "base_uri": "https://localhost:8080/"
        },
        "id": "4HsAoEQ0GBKg",
        "outputId": "1230c895-085f-4661-8e79-b941b5c26b50"
      },
      "execution_count": 14,
      "outputs": [
        {
          "output_type": "execute_result",
          "data": {
            "text/plain": [
              "<sqlite3.Cursor at 0x7ed7d49c9640>"
            ]
          },
          "metadata": {},
          "execution_count": 14
        }
      ]
    },
    {
      "cell_type": "code",
      "source": [
        "cursor.executemany(\"\"\"\n",
        "INSERT INTO Library (BookID, Title, Author, Year, Genre)\n",
        "VALUES (?, ?, ?, ?, ?)\n",
        "\"\"\", [\n",
        "    (1, \"The Alchemist\", \"Paulo Coelho\", 1988, \"Fiction\"),\n",
        "    (2, \"Python Crash Course\", \"Eric Matthes\", 2015, \"Programming\"),\n",
        "    (3, \"Clean Code\", \"Robert C. Martin\", 2008, \"Software Engineering\"),\n",
        "    (4, \"Sapiens\", \"Yuval Noah Harari\", 2011, \"History\"),\n",
        "    (5, \"Atomic Habits\", \"James Clear\", 2018, \"Self-help\")\n",
        "])\n",
        "mysql_conn.commit()"
      ],
      "metadata": {
        "id": "XZkEcnT4GKHi"
      },
      "execution_count": 15,
      "outputs": []
    },
    {
      "cell_type": "code",
      "source": [
        "df_mysql = pd.read_sql(\"SELECT * FROM Library\", mysql_conn)\n",
        "print(\"📌 Data in MySQL Simulation:\")\n",
        "print(tabulate(df_mysql, headers=\"keys\", tablefmt=\"grid\", showindex=False))"
      ],
      "metadata": {
        "id": "pE8cgK_KGOQx",
        "outputId": "e7bc2f6d-f0a9-4066-c50e-85c6d0790df2",
        "colab": {
          "base_uri": "https://localhost:8080/"
        }
      },
      "execution_count": 16,
      "outputs": [
        {
          "output_type": "stream",
          "name": "stdout",
          "text": [
            "📌 Data in MySQL Simulation:\n",
            "+----------+---------------------+-------------------+--------+----------------------+\n",
            "|   BookID | Title               | Author            |   Year | Genre                |\n",
            "+==========+=====================+===================+========+======================+\n",
            "|        1 | The Alchemist       | Paulo Coelho      |   1988 | Fiction              |\n",
            "+----------+---------------------+-------------------+--------+----------------------+\n",
            "|        2 | Python Crash Course | Eric Matthes      |   2015 | Programming          |\n",
            "+----------+---------------------+-------------------+--------+----------------------+\n",
            "|        3 | Clean Code          | Robert C. Martin  |   2008 | Software Engineering |\n",
            "+----------+---------------------+-------------------+--------+----------------------+\n",
            "|        4 | Sapiens             | Yuval Noah Harari |   2011 | History              |\n",
            "+----------+---------------------+-------------------+--------+----------------------+\n",
            "|        5 | Atomic Habits       | James Clear       |   2018 | Self-help            |\n",
            "+----------+---------------------+-------------------+--------+----------------------+\n"
          ]
        }
      ]
    },
    {
      "cell_type": "code",
      "source": [
        "pg_engine = create_engine(\"sqlite:///postgresql_sim.db\")\n",
        "df_mysql.to_sql(\"Library\", pg_engine, if_exists=\"replace\", index=False)"
      ],
      "metadata": {
        "id": "rLmc8a9cGTrJ",
        "outputId": "392d4f16-c6f6-4bcc-b67d-d731d460c5f9",
        "colab": {
          "base_uri": "https://localhost:8080/"
        }
      },
      "execution_count": 17,
      "outputs": [
        {
          "output_type": "execute_result",
          "data": {
            "text/plain": [
              "5"
            ]
          },
          "metadata": {},
          "execution_count": 17
        }
      ]
    },
    {
      "cell_type": "code",
      "source": [
        "df_pg = pd.read_sql(\"SELECT * FROM Library\", pg_engine)\n",
        "print(\"\\n📌 Data in PostgreSQL Simulation:\")\n",
        "print(tabulate(df_pg, headers=\"keys\", tablefmt=\"grid\", showindex=False))"
      ],
      "metadata": {
        "id": "gFJJVbzaGaDC",
        "outputId": "c5550477-2417-4e47-84dc-2b3736bd8f8e",
        "colab": {
          "base_uri": "https://localhost:8080/"
        }
      },
      "execution_count": 18,
      "outputs": [
        {
          "output_type": "stream",
          "name": "stdout",
          "text": [
            "\n",
            "📌 Data in PostgreSQL Simulation:\n",
            "+----------+---------------------+-------------------+--------+----------------------+\n",
            "|   BookID | Title               | Author            |   Year | Genre                |\n",
            "+==========+=====================+===================+========+======================+\n",
            "|        1 | The Alchemist       | Paulo Coelho      |   1988 | Fiction              |\n",
            "+----------+---------------------+-------------------+--------+----------------------+\n",
            "|        2 | Python Crash Course | Eric Matthes      |   2015 | Programming          |\n",
            "+----------+---------------------+-------------------+--------+----------------------+\n",
            "|        3 | Clean Code          | Robert C. Martin  |   2008 | Software Engineering |\n",
            "+----------+---------------------+-------------------+--------+----------------------+\n",
            "|        4 | Sapiens             | Yuval Noah Harari |   2011 | History              |\n",
            "+----------+---------------------+-------------------+--------+----------------------+\n",
            "|        5 | Atomic Habits       | James Clear       |   2018 | Self-help            |\n",
            "+----------+---------------------+-------------------+--------+----------------------+\n"
          ]
        }
      ]
    },
    {
      "cell_type": "code",
      "source": [
        "if len(df_mysql) == len(df_pg):\n",
        "    print(\"\\n✅ Migration successful! Row counts match.\")\n",
        "else:\n",
        "    print(\"\\n❌ Migration error! Row counts do not match.\")"
      ],
      "metadata": {
        "id": "PJQTS2sQGg50",
        "outputId": "de1d05d2-178a-4260-b198-7a3d6fe6e898",
        "colab": {
          "base_uri": "https://localhost:8080/"
        }
      },
      "execution_count": 19,
      "outputs": [
        {
          "output_type": "stream",
          "name": "stdout",
          "text": [
            "\n",
            "✅ Migration successful! Row counts match.\n"
          ]
        }
      ]
    }
  ]
}